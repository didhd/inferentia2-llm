{
 "cells": [
  {
   "cell_type": "markdown",
   "id": "0ef5644c-2f34-4cca-861a-f11548a67caa",
   "metadata": {},
   "source": [
    "## 성능 측정\n",
    "LLama3 모델을 Inferentia2에 성공적으로 배포하였으니, 이제 이 모델의 성능을 벤치마킹하기 위해 코드를 다운로드하고 모델의 성능을 측정할 준비를 합니다. 다음 명령어를 통해 벤치마크를 실행할 수 있습니다."
   ]
  },
  {
   "cell_type": "code",
   "execution_count": 22,
   "id": "7fc7a51f-03b1-41df-8e92-a1b3572044c5",
   "metadata": {},
   "outputs": [
    {
     "name": "stdout",
     "output_type": "stream",
     "text": [
      "Looking in indexes: https://pypi.org/simple, https://pip.repos.neuron.amazonaws.com\n",
      "Collecting nltk\n",
      "  Downloading nltk-3.8.1-py3-none-any.whl.metadata (2.8 kB)\n",
      "Requirement already satisfied: click in /opt/aws_neuronx_venv_transformers_neuronx/lib/python3.10/site-packages (from nltk) (8.1.7)\n",
      "Requirement already satisfied: joblib in /opt/aws_neuronx_venv_transformers_neuronx/lib/python3.10/site-packages (from nltk) (1.4.2)\n",
      "Requirement already satisfied: regex>=2021.8.3 in /opt/aws_neuronx_venv_transformers_neuronx/lib/python3.10/site-packages (from nltk) (2024.5.15)\n",
      "Requirement already satisfied: tqdm in /opt/aws_neuronx_venv_transformers_neuronx/lib/python3.10/site-packages (from nltk) (4.66.4)\n",
      "Downloading nltk-3.8.1-py3-none-any.whl (1.5 MB)\n",
      "\u001b[2K   \u001b[90m━━━━━━━━━━━━━━━━━━━━━━━━━━━━━━━━━━━━━━━━\u001b[0m \u001b[32m1.5/1.5 MB\u001b[0m \u001b[31m33.4 MB/s\u001b[0m eta \u001b[36m0:00:00\u001b[0ma \u001b[36m0:00:01\u001b[0m\n",
      "\u001b[?25hInstalling collected packages: nltk\n",
      "Successfully installed nltk-3.8.1\n",
      "\n",
      "\u001b[1m[\u001b[0m\u001b[34;49mnotice\u001b[0m\u001b[1;39;49m]\u001b[0m\u001b[39;49m A new release of pip is available: \u001b[0m\u001b[31;49m24.0\u001b[0m\u001b[39;49m -> \u001b[0m\u001b[32;49m24.1.2\u001b[0m\n",
      "\u001b[1m[\u001b[0m\u001b[34;49mnotice\u001b[0m\u001b[1;39;49m]\u001b[0m\u001b[39;49m To update, run: \u001b[0m\u001b[32;49mpip install --upgrade pip\u001b[0m\n"
     ]
    }
   ],
   "source": [
    "!pip install -q nltk"
   ]
  },
  {
   "cell_type": "code",
   "execution_count": 25,
   "id": "92b1c960-a40c-4548-9aa0-0c9474fd5c2d",
   "metadata": {},
   "outputs": [
    {
     "name": "stdout",
     "output_type": "stream",
     "text": [
      "Special tokens have been added in the vocabulary, make sure the associated word embeddings are fine-tuned or trained.\n",
      "100%|█████████████████████████████████████████| 100/100 [12:20<00:00,  7.41s/it]\n",
      "\n",
      "Benchmark Results:\n",
      "Concurrent requests: 10\n",
      "Input tokens: 4096\n",
      "Max new tokens: 4096\n",
      "Avg. Latency: 61887.04ms\n",
      "Avg. Time-to-First-Token (TTFT): 12997.58ms\n",
      "Output Token Throughput: 1096.46 tokens/sec\n",
      "Requests per second: 0.61\n",
      "Total time: 162.87s\n",
      "Total output tokens generated: 178586\n"
     ]
    }
   ],
   "source": [
    "!python benchmark.py \\\n",
    "  --endpoint http://127.0.0.1:8080/predictions/llama3 \\\n",
    "  --num-concurrent-requests 10 \\\n",
    "  --max-num-completed-requests 100 \\\n",
    "  --input-tokens 4096 \\\n",
    "  --max-new-tokens 4096 \\\n",
    "  --timeout 600 \\\n",
    "  --results-dir results"
   ]
  },
  {
   "cell_type": "markdown",
   "id": "62efe7df-79aa-400a-82fa-e7feea7e3e4e",
   "metadata": {},
   "source": [
    "이 명령은 동시에 10명의 사용자가 100개의 요청을 처리하면서, 모델의 첫 토큰까지의 시간, 토큰당 지연 시간(ms/token) 및 처리량(tokens/s)을 측정합니다. 이 모든 상세 결과는 결과 폴더에서 확인할 수 있습니다.\n",
    "\n",
    "이제 결과를 파싱하고 표시해 보겠습니다. 다음은 Python 코드와 그 출력 결과입니다."
   ]
  },
  {
   "cell_type": "code",
   "execution_count": 16,
   "id": "845c3cc1-a176-41d5-bfce-b86f1009e79f",
   "metadata": {},
   "outputs": [
    {
     "name": "stdout",
     "output_type": "stream",
     "text": [
      "\n",
      "Benchmark Results:\n",
      "Avg. Input token length: 512.00\n",
      "Avg. Output token length: 27.00\n"
     ]
    },
    {
     "ename": "KeyError",
     "evalue": "'avg_total_tokens'",
     "output_type": "error",
     "traceback": [
      "\u001b[0;31m---------------------------------------------------------------------------\u001b[0m",
      "\u001b[0;31mKeyError\u001b[0m                                  Traceback (most recent call last)",
      "Cell \u001b[0;32mIn[16], line 11\u001b[0m\n\u001b[1;32m      9\u001b[0m \u001b[38;5;28mprint\u001b[39m(\u001b[38;5;124mf\u001b[39m\u001b[38;5;124m\"\u001b[39m\u001b[38;5;124mAvg. Input token length: \u001b[39m\u001b[38;5;132;01m{\u001b[39;00mresults[\u001b[38;5;124m'\u001b[39m\u001b[38;5;124mresults\u001b[39m\u001b[38;5;124m'\u001b[39m][\u001b[38;5;124m'\u001b[39m\u001b[38;5;124mavg_input_tokens\u001b[39m\u001b[38;5;124m'\u001b[39m]\u001b[38;5;132;01m:\u001b[39;00m\u001b[38;5;124m.2f\u001b[39m\u001b[38;5;132;01m}\u001b[39;00m\u001b[38;5;124m\"\u001b[39m)\n\u001b[1;32m     10\u001b[0m \u001b[38;5;28mprint\u001b[39m(\u001b[38;5;124mf\u001b[39m\u001b[38;5;124m\"\u001b[39m\u001b[38;5;124mAvg. Output token length: \u001b[39m\u001b[38;5;132;01m{\u001b[39;00mresults[\u001b[38;5;124m'\u001b[39m\u001b[38;5;124mresults\u001b[39m\u001b[38;5;124m'\u001b[39m][\u001b[38;5;124m'\u001b[39m\u001b[38;5;124mavg_output_tokens\u001b[39m\u001b[38;5;124m'\u001b[39m]\u001b[38;5;132;01m:\u001b[39;00m\u001b[38;5;124m.2f\u001b[39m\u001b[38;5;132;01m}\u001b[39;00m\u001b[38;5;124m\"\u001b[39m)\n\u001b[0;32m---> 11\u001b[0m \u001b[38;5;28mprint\u001b[39m(\u001b[38;5;124mf\u001b[39m\u001b[38;5;124m\"\u001b[39m\u001b[38;5;124mAvg. Total token length: \u001b[39m\u001b[38;5;132;01m{\u001b[39;00m\u001b[43mresults\u001b[49m\u001b[43m[\u001b[49m\u001b[38;5;124;43m'\u001b[39;49m\u001b[38;5;124;43mresults\u001b[39;49m\u001b[38;5;124;43m'\u001b[39;49m\u001b[43m]\u001b[49m\u001b[43m[\u001b[49m\u001b[38;5;124;43m'\u001b[39;49m\u001b[38;5;124;43mavg_total_tokens\u001b[39;49m\u001b[38;5;124;43m'\u001b[39;49m\u001b[43m]\u001b[49m\u001b[38;5;132;01m:\u001b[39;00m\u001b[38;5;124m.2f\u001b[39m\u001b[38;5;132;01m}\u001b[39;00m\u001b[38;5;124m\"\u001b[39m)\n\u001b[1;32m     12\u001b[0m \u001b[38;5;28mprint\u001b[39m(\u001b[38;5;124mf\u001b[39m\u001b[38;5;124m\"\u001b[39m\u001b[38;5;124mAvg. First-Time-To-Token: \u001b[39m\u001b[38;5;132;01m{\u001b[39;00mresults[\u001b[38;5;124m'\u001b[39m\u001b[38;5;124mresults\u001b[39m\u001b[38;5;124m'\u001b[39m][\u001b[38;5;124m'\u001b[39m\u001b[38;5;124mavg_first_token_time\u001b[39m\u001b[38;5;124m'\u001b[39m]\u001b[38;5;132;01m:\u001b[39;00m\u001b[38;5;124m.2f\u001b[39m\u001b[38;5;132;01m}\u001b[39;00m\u001b[38;5;124mms\u001b[39m\u001b[38;5;124m\"\u001b[39m)\n\u001b[1;32m     13\u001b[0m \u001b[38;5;28mprint\u001b[39m(\u001b[38;5;124mf\u001b[39m\u001b[38;5;124m\"\u001b[39m\u001b[38;5;124mAvg. Throughput: \u001b[39m\u001b[38;5;132;01m{\u001b[39;00mresults[\u001b[38;5;124m'\u001b[39m\u001b[38;5;124mresults\u001b[39m\u001b[38;5;124m'\u001b[39m][\u001b[38;5;124m'\u001b[39m\u001b[38;5;124mavg_throughput\u001b[39m\u001b[38;5;124m'\u001b[39m]\u001b[38;5;132;01m:\u001b[39;00m\u001b[38;5;124m.2f\u001b[39m\u001b[38;5;132;01m}\u001b[39;00m\u001b[38;5;124m tokens/sec\u001b[39m\u001b[38;5;124m\"\u001b[39m)\n",
      "\u001b[0;31mKeyError\u001b[0m: 'avg_total_tokens'"
     ]
    }
   ],
   "source": [
    "# 결과 폴더에서 summary.json 파일을 읽고 결과를 출력\n",
    "import glob\n",
    "import json\n",
    "\n",
    "with open(glob.glob('results/*summary.json')[0], 'r') as file:\n",
    "    results = json.load(file)\n",
    "\n",
    "print(\"\\nBenchmark Results:\")\n",
    "print(f\"Concurrent requests: {results['num_concurrent_requests']}\")\n",
    "print(f\"Input tokens: {results['input_tokens']}\")\n",
    "print(f\"Max new tokens: {results['max_new_tokens']}\")\n",
    "print(f\"Avg. Latency: {results['results']['avg_latency']:.2f}ms\")\n",
    "print(f\"Avg. Time-to-First-Token (TTFT): {results['results']['avg_ttft']:.2f}ms\")\n",
    "print(f\"Output Token Throughput: {results['results']['output_tokens_per_second']:.2f} tokens/sec\")\n",
    "print(f\"Requests per second: {results['results']['requests_per_second']:.2f}\")\n",
    "print(f\"Total time: {results['results']['total_time']:.2f}s\")\n",
    "print(f\"Total output tokens generated: {results['results']['total_output_tokens']}\")"
   ]
  },
  {
   "cell_type": "code",
   "execution_count": 3,
   "id": "5f4299c3-954f-4306-9fc8-188bbc5b06f2",
   "metadata": {},
   "outputs": [],
   "source": [
    "# Concurrent requests: 25\n",
    "# Avg. Input token length: 512.0\n",
    "# Avg. Output token length: 27.0\n",
    "# Avg. First-Time-To-Token: 469.89ms\n",
    "# Avg. Throughput: 57.45 tokens/sec\n",
    "# Avg. Latency: 28.02ms/token"
   ]
  }
 ],
 "metadata": {
  "kernelspec": {
   "display_name": "Python 3 (ipykernel)",
   "language": "python",
   "name": "python3"
  },
  "language_info": {
   "codemirror_mode": {
    "name": "ipython",
    "version": 3
   },
   "file_extension": ".py",
   "mimetype": "text/x-python",
   "name": "python",
   "nbconvert_exporter": "python",
   "pygments_lexer": "ipython3",
   "version": "3.10.12"
  }
 },
 "nbformat": 4,
 "nbformat_minor": 5
}
